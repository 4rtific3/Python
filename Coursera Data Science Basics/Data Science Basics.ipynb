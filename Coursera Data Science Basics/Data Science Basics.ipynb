{
 "cells": [
  {
   "cell_type": "markdown",
   "id": "5a89d118",
   "metadata": {},
   "source": [
    "## Importing pyplot method only from matplotlib"
   ]
  },
  {
   "cell_type": "code",
   "execution_count": 1,
   "id": "fc6cea93",
   "metadata": {},
   "outputs": [],
   "source": [
    "import matplotlib.pyplot as plt"
   ]
  },
  {
   "cell_type": "code",
   "execution_count": 2,
   "id": "788886dc",
   "metadata": {},
   "outputs": [],
   "source": [
    "xs = [10, 100, 25, 67, 74]\n",
    "ys = [125, 26, 66, 1, 10]"
   ]
  },
  {
   "cell_type": "markdown",
   "id": "8614471b",
   "metadata": {},
   "source": [
    "## Scatter Plot\n",
    "\n",
    "### Format\n",
    "matplotlib.pyplot.scatter(x, y, s=None, c=None, marker=None, cmap=None, norm=None, vmin=None, vmax=None, alpha=None, linewidths=None, *, edgecolors=None, plotnonfinite=False, data=None, **kwargs)\n",
    "\n",
    "https://matplotlib.org/stable/api/_as_gen/matplotlib.pyplot.scatter.html"
   ]
  },
  {
   "cell_type": "code",
   "execution_count": 3,
   "id": "ca08e476",
   "metadata": {},
   "outputs": [
    {
     "data": {
      "image/png": "[encoded data removed]",
      "text/plain": [
       "<Figure size 432x288 with 1 Axes>"
      ]
     },
     "metadata": {
      "needs_background": "light"
     },
     "output_type": "display_data"
    }
   ],
   "source": [
    "plt.scatter(xs, ys)\n",
    "plt.show()"
   ]
  },
  {
   "cell_type": "markdown",
   "id": "30cd9600",
   "metadata": {},
   "source": [
    "## Plotting data in a numpy array"
   ]
  },
  {
   "cell_type": "code",
   "execution_count": 4,
   "id": "69453b32",
   "metadata": {},
   "outputs": [
    {
     "name": "stdout",
     "output_type": "stream",
     "text": [
      "[[ 10 125]\n",
      " [100  26]\n",
      " [ 26  66]\n",
      " [ 67   1]\n",
      " [ 74  10]]\n",
      "[ 10 100  26  67  74]\n",
      "[125  26  66   1  10]\n"
     ]
    }
   ],
   "source": [
    "import numpy as np\n",
    "xys = [[10, 125], [100, 26], [26, 66], [67, 1], [74, 10]]\n",
    "xys = np.array(xys)\n",
    "\n",
    "print(xys)\n",
    "print(xys[:,0])\n",
    "print(xys[:,1])"
   ]
  },
  {
   "cell_type": "code",
   "execution_count": 5,
   "id": "6513fff3",
   "metadata": {},
   "outputs": [
    {
     "data": {
      "image/png": "[encoded data removed]",
      "text/plain": [
       "<Figure size 432x288 with 1 Axes>"
      ]
     },
     "metadata": {
      "needs_background": "light"
     },
     "output_type": "display_data"
    }
   ],
   "source": [
    "plt.scatter(xys[:,0], xys[:,1])\n",
    "plt.show()"
   ]
  },
  {
   "cell_type": "markdown",
   "id": "1943ee25",
   "metadata": {},
   "source": [
    "## Multidimensional Mean"
   ]
  },
  {
   "cell_type": "markdown",
   "id": "a5b28c58",
   "metadata": {},
   "source": [
    "np.mean(_data_, 0/1) <br>\n",
    "0 calculates the mean by column and 1 calculates the mean by row"
   ]
  },
  {
   "cell_type": "code",
   "execution_count": 6,
   "id": "ce5561aa",
   "metadata": {},
   "outputs": [
    {
     "name": "stdout",
     "output_type": "stream",
     "text": [
      "[55.4 45.6]\n"
     ]
    }
   ],
   "source": [
    "mean = np.mean(xys, 0)\n",
    "mean = xys.mean(0)\n",
    "print(mean)"
   ]
  },
  {
   "cell_type": "markdown",
   "id": "91df0a1b",
   "metadata": {},
   "source": [
    "## Adding graphical overlays\n",
    "\n",
    "An ellipse patch shows the multidimensional standard deviation of a dataset\n",
    "\n",
    "https://matplotlib.org/stable/api/patches_api.html"
   ]
  },
  {
   "cell_type": "code",
   "execution_count": 7,
   "id": "c4e91e47",
   "metadata": {},
   "outputs": [
    {
     "data": {
      "image/png": "[encoded data removed]",
      "text/plain": [
       "<Figure size 432x288 with 1 Axes>"
      ]
     },
     "metadata": {
      "needs_background": "light"
     },
     "output_type": "display_data"
    }
   ],
   "source": [
    "import matplotlib.patches as patches\n",
    "\n",
    "mean = xys.mean(0)\n",
    "std_dev = xys.std(0)\n",
    "\n",
    "ellipse = patches.Ellipse([mean[0], mean[1]], std_dev[0]*2, std_dev[1]*2, alpha=0.25)\n",
    "\n",
    "fig,graph = plt.subplots()\n",
    "\n",
    "graph.scatter(xs, ys)\n",
    "graph.scatter(mean[0], mean[1])\n",
    "graph.add_patch(ellipse)\n",
    "plt.show()"
   ]
  },
  {
   "cell_type": "markdown",
   "id": "81536aa0",
   "metadata": {},
   "source": [
    "## Calculating distance to the mean"
   ]
  },
  {
   "cell_type": "code",
   "execution_count": 8,
   "id": "63580393",
   "metadata": {},
   "outputs": [
    {
     "data": {
      "text/plain": [
       "91.46321665019222"
      ]
     },
     "execution_count": 8,
     "metadata": {},
     "output_type": "execute_result"
    }
   ],
   "source": [
    "np.linalg.norm(xys[0]-mean)"
   ]
  },
  {
   "cell_type": "markdown",
   "id": "8417f4bc",
   "metadata": {},
   "source": [
    "## List Comprehension"
   ]
  },
  {
   "cell_type": "code",
   "execution_count": 9,
   "id": "4149aaa9",
   "metadata": {},
   "outputs": [
    {
     "name": "stdout",
     "output_type": "stream",
     "text": [
      "[91.46321665019222, 48.716732238523555, 35.78435412299627, 46.08383664583495, 40.16615490683668]\n"
     ]
    }
   ],
   "source": [
    "mean_dists = [np.linalg.norm(i-mean) for i in xys]\n",
    "print(mean_dists)"
   ]
  },
  {
   "cell_type": "markdown",
   "id": "2cc283fb",
   "metadata": {},
   "source": [
    "## Normalisation"
   ]
  },
  {
   "cell_type": "code",
   "execution_count": 10,
   "id": "bd1b64b0",
   "metadata": {
    "scrolled": false
   },
   "outputs": [
    {
     "name": "stdout",
     "output_type": "stream",
     "text": [
      "10 100\n",
      "[0.         1.         0.17777778 0.63333333 0.71111111]\n"
     ]
    }
   ],
   "source": [
    "x_min = np.min(xys[:,0])\n",
    "x_max = np.max(xys[:,0])\n",
    "print(x_min, x_max)\n",
    "\n",
    "norm_x = (xys[:,0] - x_min) / (x_max - x_min)\n",
    "print(norm_x)"
   ]
  },
  {
   "cell_type": "code",
   "execution_count": 11,
   "id": "5b169c86",
   "metadata": {
    "scrolled": false
   },
   "outputs": [
    {
     "name": "stdout",
     "output_type": "stream",
     "text": [
      "10 100\n",
      "[[0.         1.        ]\n",
      " [1.         0.2016129 ]\n",
      " [0.17777778 0.52419355]\n",
      " [0.63333333 0.        ]\n",
      " [0.71111111 0.07258065]]\n"
     ]
    }
   ],
   "source": [
    "xys_min = np.min(xys, 0)\n",
    "xys_max = np.max(xys, 0)\n",
    "print(x_min, x_max)\n",
    "\n",
    "normed = (xys - xys_min) / (xys_max - xys_min)\n",
    "print(normed)"
   ]
  },
  {
   "cell_type": "code",
   "execution_count": 12,
   "id": "4bba78c5",
   "metadata": {},
   "outputs": [
    {
     "data": {
      "image/png": "[encoded data removed]",
      "text/plain": [
       "<Figure size 432x288 with 1 Axes>"
      ]
     },
     "metadata": {
      "needs_background": "light"
     },
     "output_type": "display_data"
    }
   ],
   "source": [
    "import matplotlib.patches as patches\n",
    "\n",
    "mean = normed.mean(0)\n",
    "std_dev = normed.std(0)\n",
    "\n",
    "ellipse = patches.Ellipse([mean[0], mean[1]], std_dev[0]*2, std_dev[1]*2, alpha=0.25)\n",
    "\n",
    "fig,graph = plt.subplots()\n",
    "\n",
    "graph.scatter(normed[:,0], normed[:,1])\n",
    "graph.scatter(mean[0], mean[1])\n",
    "graph.add_patch(ellipse)\n",
    "plt.show()"
   ]
  },
  {
   "cell_type": "markdown",
   "id": "32a3d5fd",
   "metadata": {},
   "source": [
    "## Using pandas to read csv files"
   ]
  },
  {
   "cell_type": "code",
   "execution_count": 13,
   "id": "4a3c9652",
   "metadata": {},
   "outputs": [
    {
     "name": "stdout",
     "output_type": "stream",
     "text": [
      "          country  adjusted_satisfaction  avg_satisfaction  std_satisfaction  \\\n",
      "0         Armenia                   37.0               4.9              2.42   \n",
      "1          Angola                   26.0               4.3              3.19   \n",
      "2       Argentina                   60.0               7.1              1.91   \n",
      "3         Austria                   59.0               7.2              2.11   \n",
      "4       Australia                   65.0               7.6              1.80   \n",
      "..            ...                    ...               ...               ...   \n",
      "106       Uruguay                   58.0               7.0              2.13   \n",
      "107       Vietnam                   53.0               6.1              1.77   \n",
      "108  South Africa                   49.0               6.3              2.47   \n",
      "109        Zambia                   37.0               5.0              2.61   \n",
      "110      Zimbabwe                   33.0               4.1              2.16   \n",
      "\n",
      "     avg_income  median_income  income_inequality  \\\n",
      "0       2096.76    1731.506667          31.445556   \n",
      "1       1448.88    1044.240000          42.720000   \n",
      "2       7101.12    5109.400000          45.475556   \n",
      "3      19457.04   16879.620000          30.296250   \n",
      "4      19917.00   15846.060000          35.285000   \n",
      "..          ...            ...                ...   \n",
      "106     7544.40    5269.226667          45.014444   \n",
      "107     2231.40    1643.580000          39.242500   \n",
      "108     3889.32    1506.400000          63.726667   \n",
      "109      956.76     510.060000          55.120000   \n",
      "110     1768.56    1230.600000          43.150000   \n",
      "\n",
      "                            region  happyScore      GDP     country.1  \n",
      "0     'Central and Eastern Europe'       4.350  0.76821       Armenia  \n",
      "1             'Sub-Saharan Africa'       4.033  0.75778        Angola  \n",
      "2    'Latin America and Caribbean'       6.574  1.05351     Argentina  \n",
      "3                 'Western Europe'       7.200  1.33723       Austria  \n",
      "4      'Australia and New Zealand'       7.284  1.33358     Australia  \n",
      "..                             ...         ...      ...           ...  \n",
      "106  'Latin America and Caribbean'       6.485  1.06166       Uruguay  \n",
      "107            'Southeastern Asia'       5.360  0.63216       Vietnam  \n",
      "108           'Sub-Saharan Africa'       4.642  0.92049  South Africa  \n",
      "109           'Sub-Saharan Africa'       5.129  0.47038        Zambia  \n",
      "110           'Sub-Saharan Africa'       4.610  0.27100      Zimbabwe  \n",
      "\n",
      "[111 rows x 11 columns]\n"
     ]
    }
   ],
   "source": [
    "import pandas as pd\n",
    "\n",
    "data = pd.read_csv(\"csv files/happyscore_income.csv\")\n",
    "\n",
    "print(data)"
   ]
  },
  {
   "cell_type": "code",
   "execution_count": 14,
   "id": "f2716781",
   "metadata": {},
   "outputs": [
    {
     "name": "stdout",
     "output_type": "stream",
     "text": [
      "0      4.350\n",
      "1      4.033\n",
      "2      6.574\n",
      "3      7.200\n",
      "4      7.284\n",
      "       ...  \n",
      "106    6.485\n",
      "107    5.360\n",
      "108    4.642\n",
      "109    5.129\n",
      "110    4.610\n",
      "Name: happyScore, Length: 111, dtype: float64 0       2096.76\n",
      "1       1448.88\n",
      "2       7101.12\n",
      "3      19457.04\n",
      "4      19917.00\n",
      "         ...   \n",
      "106     7544.40\n",
      "107     2231.40\n",
      "108     3889.32\n",
      "109      956.76\n",
      "110     1768.56\n",
      "Name: avg_income, Length: 111, dtype: float64\n"
     ]
    },
    {
     "data": {
      "text/plain": [
       "(2.839, 7.587000000000001)"
      ]
     },
     "execution_count": 14,
     "metadata": {},
     "output_type": "execute_result"
    }
   ],
   "source": [
    "happy = data['happyScore']\n",
    "income = data['avg_income']\n",
    "\n",
    "print(happy, income)\n",
    "happy.min(), happy.max()"
   ]
  },
  {
   "cell_type": "code",
   "execution_count": 15,
   "id": "af097087",
   "metadata": {
    "scrolled": true
   },
   "outputs": [
    {
     "data": {
      "image/png": "[encoded data removed]",
      "text/plain": [
       "<Figure size 432x288 with 1 Axes>"
      ]
     },
     "metadata": {
      "needs_background": "light"
     },
     "output_type": "display_data"
    }
   ],
   "source": [
    "import matplotlib.pyplot as plt\n",
    "\n",
    "plt.xlabel('income')\n",
    "plt.ylabel('happiness')\n",
    "plt.scatter(income, happy)\n",
    "plt.show()"
   ]
  },
  {
   "cell_type": "code",
   "execution_count": 16,
   "id": "37e6bc5f",
   "metadata": {
    "scrolled": true
   },
   "outputs": [
    {
     "data": {
      "text/html": [
       "<div>\n",
       "<style scoped>\n",
       "    .dataframe tbody tr th:only-of-type {\n",
       "        vertical-align: middle;\n",
       "    }\n",
       "\n",
       "    .dataframe tbody tr th {\n",
       "        vertical-align: top;\n",
       "    }\n",
       "\n",
       "    .dataframe thead th {\n",
       "        text-align: right;\n",
       "    }\n",
       "</style>\n",
       "<table border=\"1\" class=\"dataframe\">\n",
       "  <thead>\n",
       "    <tr style=\"text-align: right;\">\n",
       "      <th></th>\n",
       "      <th>country</th>\n",
       "      <th>adjusted_satisfaction</th>\n",
       "      <th>avg_satisfaction</th>\n",
       "      <th>std_satisfaction</th>\n",
       "      <th>avg_income</th>\n",
       "      <th>median_income</th>\n",
       "      <th>income_inequality</th>\n",
       "      <th>region</th>\n",
       "      <th>happyScore</th>\n",
       "      <th>GDP</th>\n",
       "      <th>country.1</th>\n",
       "    </tr>\n",
       "  </thead>\n",
       "  <tbody>\n",
       "    <tr>\n",
       "      <th>0</th>\n",
       "      <td>Armenia</td>\n",
       "      <td>37.0</td>\n",
       "      <td>4.9</td>\n",
       "      <td>2.42</td>\n",
       "      <td>2096.76</td>\n",
       "      <td>1731.506667</td>\n",
       "      <td>31.445556</td>\n",
       "      <td>'Central and Eastern Europe'</td>\n",
       "      <td>4.350</td>\n",
       "      <td>0.76821</td>\n",
       "      <td>Armenia</td>\n",
       "    </tr>\n",
       "    <tr>\n",
       "      <th>1</th>\n",
       "      <td>Angola</td>\n",
       "      <td>26.0</td>\n",
       "      <td>4.3</td>\n",
       "      <td>3.19</td>\n",
       "      <td>1448.88</td>\n",
       "      <td>1044.240000</td>\n",
       "      <td>42.720000</td>\n",
       "      <td>'Sub-Saharan Africa'</td>\n",
       "      <td>4.033</td>\n",
       "      <td>0.75778</td>\n",
       "      <td>Angola</td>\n",
       "    </tr>\n",
       "    <tr>\n",
       "      <th>2</th>\n",
       "      <td>Argentina</td>\n",
       "      <td>60.0</td>\n",
       "      <td>7.1</td>\n",
       "      <td>1.91</td>\n",
       "      <td>7101.12</td>\n",
       "      <td>5109.400000</td>\n",
       "      <td>45.475556</td>\n",
       "      <td>'Latin America and Caribbean'</td>\n",
       "      <td>6.574</td>\n",
       "      <td>1.05351</td>\n",
       "      <td>Argentina</td>\n",
       "    </tr>\n",
       "    <tr>\n",
       "      <th>3</th>\n",
       "      <td>Austria</td>\n",
       "      <td>59.0</td>\n",
       "      <td>7.2</td>\n",
       "      <td>2.11</td>\n",
       "      <td>19457.04</td>\n",
       "      <td>16879.620000</td>\n",
       "      <td>30.296250</td>\n",
       "      <td>'Western Europe'</td>\n",
       "      <td>7.200</td>\n",
       "      <td>1.33723</td>\n",
       "      <td>Austria</td>\n",
       "    </tr>\n",
       "    <tr>\n",
       "      <th>4</th>\n",
       "      <td>Australia</td>\n",
       "      <td>65.0</td>\n",
       "      <td>7.6</td>\n",
       "      <td>1.80</td>\n",
       "      <td>19917.00</td>\n",
       "      <td>15846.060000</td>\n",
       "      <td>35.285000</td>\n",
       "      <td>'Australia and New Zealand'</td>\n",
       "      <td>7.284</td>\n",
       "      <td>1.33358</td>\n",
       "      <td>Australia</td>\n",
       "    </tr>\n",
       "    <tr>\n",
       "      <th>...</th>\n",
       "      <td>...</td>\n",
       "      <td>...</td>\n",
       "      <td>...</td>\n",
       "      <td>...</td>\n",
       "      <td>...</td>\n",
       "      <td>...</td>\n",
       "      <td>...</td>\n",
       "      <td>...</td>\n",
       "      <td>...</td>\n",
       "      <td>...</td>\n",
       "      <td>...</td>\n",
       "    </tr>\n",
       "    <tr>\n",
       "      <th>106</th>\n",
       "      <td>Uruguay</td>\n",
       "      <td>58.0</td>\n",
       "      <td>7.0</td>\n",
       "      <td>2.13</td>\n",
       "      <td>7544.40</td>\n",
       "      <td>5269.226667</td>\n",
       "      <td>45.014444</td>\n",
       "      <td>'Latin America and Caribbean'</td>\n",
       "      <td>6.485</td>\n",
       "      <td>1.06166</td>\n",
       "      <td>Uruguay</td>\n",
       "    </tr>\n",
       "    <tr>\n",
       "      <th>107</th>\n",
       "      <td>Vietnam</td>\n",
       "      <td>53.0</td>\n",
       "      <td>6.1</td>\n",
       "      <td>1.77</td>\n",
       "      <td>2231.40</td>\n",
       "      <td>1643.580000</td>\n",
       "      <td>39.242500</td>\n",
       "      <td>'Southeastern Asia'</td>\n",
       "      <td>5.360</td>\n",
       "      <td>0.63216</td>\n",
       "      <td>Vietnam</td>\n",
       "    </tr>\n",
       "    <tr>\n",
       "      <th>108</th>\n",
       "      <td>South Africa</td>\n",
       "      <td>49.0</td>\n",
       "      <td>6.3</td>\n",
       "      <td>2.47</td>\n",
       "      <td>3889.32</td>\n",
       "      <td>1506.400000</td>\n",
       "      <td>63.726667</td>\n",
       "      <td>'Sub-Saharan Africa'</td>\n",
       "      <td>4.642</td>\n",
       "      <td>0.92049</td>\n",
       "      <td>South Africa</td>\n",
       "    </tr>\n",
       "    <tr>\n",
       "      <th>109</th>\n",
       "      <td>Zambia</td>\n",
       "      <td>37.0</td>\n",
       "      <td>5.0</td>\n",
       "      <td>2.61</td>\n",
       "      <td>956.76</td>\n",
       "      <td>510.060000</td>\n",
       "      <td>55.120000</td>\n",
       "      <td>'Sub-Saharan Africa'</td>\n",
       "      <td>5.129</td>\n",
       "      <td>0.47038</td>\n",
       "      <td>Zambia</td>\n",
       "    </tr>\n",
       "    <tr>\n",
       "      <th>110</th>\n",
       "      <td>Zimbabwe</td>\n",
       "      <td>33.0</td>\n",
       "      <td>4.1</td>\n",
       "      <td>2.16</td>\n",
       "      <td>1768.56</td>\n",
       "      <td>1230.600000</td>\n",
       "      <td>43.150000</td>\n",
       "      <td>'Sub-Saharan Africa'</td>\n",
       "      <td>4.610</td>\n",
       "      <td>0.27100</td>\n",
       "      <td>Zimbabwe</td>\n",
       "    </tr>\n",
       "  </tbody>\n",
       "</table>\n",
       "<p>111 rows × 11 columns</p>\n",
       "</div>"
      ],
      "text/plain": [
       "          country  adjusted_satisfaction  avg_satisfaction  std_satisfaction  \\\n",
       "0         Armenia                   37.0               4.9              2.42   \n",
       "1          Angola                   26.0               4.3              3.19   \n",
       "2       Argentina                   60.0               7.1              1.91   \n",
       "3         Austria                   59.0               7.2              2.11   \n",
       "4       Australia                   65.0               7.6              1.80   \n",
       "..            ...                    ...               ...               ...   \n",
       "106       Uruguay                   58.0               7.0              2.13   \n",
       "107       Vietnam                   53.0               6.1              1.77   \n",
       "108  South Africa                   49.0               6.3              2.47   \n",
       "109        Zambia                   37.0               5.0              2.61   \n",
       "110      Zimbabwe                   33.0               4.1              2.16   \n",
       "\n",
       "     avg_income  median_income  income_inequality  \\\n",
       "0       2096.76    1731.506667          31.445556   \n",
       "1       1448.88    1044.240000          42.720000   \n",
       "2       7101.12    5109.400000          45.475556   \n",
       "3      19457.04   16879.620000          30.296250   \n",
       "4      19917.00   15846.060000          35.285000   \n",
       "..          ...            ...                ...   \n",
       "106     7544.40    5269.226667          45.014444   \n",
       "107     2231.40    1643.580000          39.242500   \n",
       "108     3889.32    1506.400000          63.726667   \n",
       "109      956.76     510.060000          55.120000   \n",
       "110     1768.56    1230.600000          43.150000   \n",
       "\n",
       "                            region  happyScore      GDP     country.1  \n",
       "0     'Central and Eastern Europe'       4.350  0.76821       Armenia  \n",
       "1             'Sub-Saharan Africa'       4.033  0.75778        Angola  \n",
       "2    'Latin America and Caribbean'       6.574  1.05351     Argentina  \n",
       "3                 'Western Europe'       7.200  1.33723       Austria  \n",
       "4      'Australia and New Zealand'       7.284  1.33358     Australia  \n",
       "..                             ...         ...      ...           ...  \n",
       "106  'Latin America and Caribbean'       6.485  1.06166       Uruguay  \n",
       "107            'Southeastern Asia'       5.360  0.63216       Vietnam  \n",
       "108           'Sub-Saharan Africa'       4.642  0.92049  South Africa  \n",
       "109           'Sub-Saharan Africa'       5.129  0.47038        Zambia  \n",
       "110           'Sub-Saharan Africa'       4.610  0.27100      Zimbabwe  \n",
       "\n",
       "[111 rows x 11 columns]"
      ]
     },
     "execution_count": 16,
     "metadata": {},
     "output_type": "execute_result"
    }
   ],
   "source": [
    "data"
   ]
  },
  {
   "cell_type": "markdown",
   "id": "0c5e93a7",
   "metadata": {},
   "source": [
    "## Sorting Data"
   ]
  },
  {
   "cell_type": "code",
   "execution_count": 17,
   "id": "2b2aa9e5",
   "metadata": {},
   "outputs": [
    {
     "data": {
      "text/html": [
       "<div>\n",
       "<style scoped>\n",
       "    .dataframe tbody tr th:only-of-type {\n",
       "        vertical-align: middle;\n",
       "    }\n",
       "\n",
       "    .dataframe tbody tr th {\n",
       "        vertical-align: top;\n",
       "    }\n",
       "\n",
       "    .dataframe thead th {\n",
       "        text-align: right;\n",
       "    }\n",
       "</style>\n",
       "<table border=\"1\" class=\"dataframe\">\n",
       "  <thead>\n",
       "    <tr style=\"text-align: right;\">\n",
       "      <th></th>\n",
       "      <th>country</th>\n",
       "      <th>adjusted_satisfaction</th>\n",
       "      <th>avg_satisfaction</th>\n",
       "      <th>std_satisfaction</th>\n",
       "      <th>avg_income</th>\n",
       "      <th>median_income</th>\n",
       "      <th>income_inequality</th>\n",
       "      <th>region</th>\n",
       "      <th>happyScore</th>\n",
       "      <th>GDP</th>\n",
       "      <th>country.1</th>\n",
       "    </tr>\n",
       "  </thead>\n",
       "  <tbody>\n",
       "    <tr>\n",
       "      <th>10</th>\n",
       "      <td>Burundi</td>\n",
       "      <td>25.0</td>\n",
       "      <td>2.9</td>\n",
       "      <td>1.96</td>\n",
       "      <td>572.880</td>\n",
       "      <td>436.92</td>\n",
       "      <td>33.360000</td>\n",
       "      <td>'Sub-Saharan Africa'</td>\n",
       "      <td>2.905</td>\n",
       "      <td>0.01530</td>\n",
       "      <td>Burundi</td>\n",
       "    </tr>\n",
       "    <tr>\n",
       "      <th>65</th>\n",
       "      <td>Madagascar</td>\n",
       "      <td>33.0</td>\n",
       "      <td>3.7</td>\n",
       "      <td>1.86</td>\n",
       "      <td>574.200</td>\n",
       "      <td>415.48</td>\n",
       "      <td>40.720000</td>\n",
       "      <td>'Sub-Saharan Africa'</td>\n",
       "      <td>3.681</td>\n",
       "      <td>0.20824</td>\n",
       "      <td>Madagascar</td>\n",
       "    </tr>\n",
       "    <tr>\n",
       "      <th>58</th>\n",
       "      <td>Liberia</td>\n",
       "      <td>37.0</td>\n",
       "      <td>4.4</td>\n",
       "      <td>2.02</td>\n",
       "      <td>653.040</td>\n",
       "      <td>528.72</td>\n",
       "      <td>36.480000</td>\n",
       "      <td>'Sub-Saharan Africa'</td>\n",
       "      <td>4.571</td>\n",
       "      <td>0.07120</td>\n",
       "      <td>Liberia</td>\n",
       "    </tr>\n",
       "    <tr>\n",
       "      <th>72</th>\n",
       "      <td>Mozambique</td>\n",
       "      <td>34.0</td>\n",
       "      <td>3.8</td>\n",
       "      <td>1.76</td>\n",
       "      <td>714.720</td>\n",
       "      <td>488.52</td>\n",
       "      <td>45.580000</td>\n",
       "      <td>'Sub-Saharan Africa'</td>\n",
       "      <td>4.971</td>\n",
       "      <td>0.08308</td>\n",
       "      <td>Mozambique</td>\n",
       "    </tr>\n",
       "    <tr>\n",
       "      <th>73</th>\n",
       "      <td>Niger</td>\n",
       "      <td>34.0</td>\n",
       "      <td>3.8</td>\n",
       "      <td>1.75</td>\n",
       "      <td>718.400</td>\n",
       "      <td>535.56</td>\n",
       "      <td>37.726667</td>\n",
       "      <td>'Sub-Saharan Africa'</td>\n",
       "      <td>3.845</td>\n",
       "      <td>0.06940</td>\n",
       "      <td>Niger</td>\n",
       "    </tr>\n",
       "    <tr>\n",
       "      <th>...</th>\n",
       "      <td>...</td>\n",
       "      <td>...</td>\n",
       "      <td>...</td>\n",
       "      <td>...</td>\n",
       "      <td>...</td>\n",
       "      <td>...</td>\n",
       "      <td>...</td>\n",
       "      <td>...</td>\n",
       "      <td>...</td>\n",
       "      <td>...</td>\n",
       "      <td>...</td>\n",
       "    </tr>\n",
       "    <tr>\n",
       "      <th>16</th>\n",
       "      <td>Canada</td>\n",
       "      <td>69.0</td>\n",
       "      <td>8.0</td>\n",
       "      <td>1.71</td>\n",
       "      <td>20190.780</td>\n",
       "      <td>16829.10</td>\n",
       "      <td>33.790000</td>\n",
       "      <td>'North America'</td>\n",
       "      <td>7.427</td>\n",
       "      <td>1.32629</td>\n",
       "      <td>Canada</td>\n",
       "    </tr>\n",
       "    <tr>\n",
       "      <th>77</th>\n",
       "      <td>Norway</td>\n",
       "      <td>70.0</td>\n",
       "      <td>8.0</td>\n",
       "      <td>1.62</td>\n",
       "      <td>21877.710</td>\n",
       "      <td>19477.62</td>\n",
       "      <td>27.307500</td>\n",
       "      <td>'Western Europe'</td>\n",
       "      <td>7.522</td>\n",
       "      <td>1.45900</td>\n",
       "      <td>Norway</td>\n",
       "    </tr>\n",
       "    <tr>\n",
       "      <th>105</th>\n",
       "      <td>United States</td>\n",
       "      <td>62.0</td>\n",
       "      <td>7.3</td>\n",
       "      <td>1.92</td>\n",
       "      <td>23127.000</td>\n",
       "      <td>17925.36</td>\n",
       "      <td>41.090000</td>\n",
       "      <td>'North America'</td>\n",
       "      <td>7.119</td>\n",
       "      <td>1.39451</td>\n",
       "      <td>United States</td>\n",
       "    </tr>\n",
       "    <tr>\n",
       "      <th>17</th>\n",
       "      <td>Switzerland</td>\n",
       "      <td>70.0</td>\n",
       "      <td>8.0</td>\n",
       "      <td>1.62</td>\n",
       "      <td>23400.040</td>\n",
       "      <td>19442.92</td>\n",
       "      <td>32.930000</td>\n",
       "      <td>'Western Europe'</td>\n",
       "      <td>7.587</td>\n",
       "      <td>1.39651</td>\n",
       "      <td>Switzerland</td>\n",
       "    </tr>\n",
       "    <tr>\n",
       "      <th>61</th>\n",
       "      <td>Luxembourg</td>\n",
       "      <td>66.0</td>\n",
       "      <td>7.7</td>\n",
       "      <td>1.76</td>\n",
       "      <td>26182.275</td>\n",
       "      <td>22240.23</td>\n",
       "      <td>31.950000</td>\n",
       "      <td>'Western Europe'</td>\n",
       "      <td>6.946</td>\n",
       "      <td>1.56391</td>\n",
       "      <td>Luxembourg</td>\n",
       "    </tr>\n",
       "  </tbody>\n",
       "</table>\n",
       "<p>111 rows × 11 columns</p>\n",
       "</div>"
      ],
      "text/plain": [
       "           country  adjusted_satisfaction  avg_satisfaction  std_satisfaction  \\\n",
       "10         Burundi                   25.0               2.9              1.96   \n",
       "65      Madagascar                   33.0               3.7              1.86   \n",
       "58         Liberia                   37.0               4.4              2.02   \n",
       "72      Mozambique                   34.0               3.8              1.76   \n",
       "73           Niger                   34.0               3.8              1.75   \n",
       "..             ...                    ...               ...               ...   \n",
       "16          Canada                   69.0               8.0              1.71   \n",
       "77          Norway                   70.0               8.0              1.62   \n",
       "105  United States                   62.0               7.3              1.92   \n",
       "17     Switzerland                   70.0               8.0              1.62   \n",
       "61      Luxembourg                   66.0               7.7              1.76   \n",
       "\n",
       "     avg_income  median_income  income_inequality                region  \\\n",
       "10      572.880         436.92          33.360000  'Sub-Saharan Africa'   \n",
       "65      574.200         415.48          40.720000  'Sub-Saharan Africa'   \n",
       "58      653.040         528.72          36.480000  'Sub-Saharan Africa'   \n",
       "72      714.720         488.52          45.580000  'Sub-Saharan Africa'   \n",
       "73      718.400         535.56          37.726667  'Sub-Saharan Africa'   \n",
       "..          ...            ...                ...                   ...   \n",
       "16    20190.780       16829.10          33.790000       'North America'   \n",
       "77    21877.710       19477.62          27.307500      'Western Europe'   \n",
       "105   23127.000       17925.36          41.090000       'North America'   \n",
       "17    23400.040       19442.92          32.930000      'Western Europe'   \n",
       "61    26182.275       22240.23          31.950000      'Western Europe'   \n",
       "\n",
       "     happyScore      GDP      country.1  \n",
       "10        2.905  0.01530        Burundi  \n",
       "65        3.681  0.20824     Madagascar  \n",
       "58        4.571  0.07120        Liberia  \n",
       "72        4.971  0.08308     Mozambique  \n",
       "73        3.845  0.06940          Niger  \n",
       "..          ...      ...            ...  \n",
       "16        7.427  1.32629         Canada  \n",
       "77        7.522  1.45900         Norway  \n",
       "105       7.119  1.39451  United States  \n",
       "17        7.587  1.39651    Switzerland  \n",
       "61        6.946  1.56391     Luxembourg  \n",
       "\n",
       "[111 rows x 11 columns]"
      ]
     },
     "execution_count": 17,
     "metadata": {},
     "output_type": "execute_result"
    }
   ],
   "source": [
    "data.sort_values('avg_income', inplace=True)\n",
    "data"
   ]
  },
  {
   "cell_type": "markdown",
   "id": "06f7b187",
   "metadata": {},
   "source": [
    "## Applying filters to the data"
   ]
  },
  {
   "cell_type": "code",
   "execution_count": 18,
   "id": "9e40ac13",
   "metadata": {},
   "outputs": [
    {
     "data": {
      "text/html": [
       "<div>\n",
       "<style scoped>\n",
       "    .dataframe tbody tr th:only-of-type {\n",
       "        vertical-align: middle;\n",
       "    }\n",
       "\n",
       "    .dataframe tbody tr th {\n",
       "        vertical-align: top;\n",
       "    }\n",
       "\n",
       "    .dataframe thead th {\n",
       "        text-align: right;\n",
       "    }\n",
       "</style>\n",
       "<table border=\"1\" class=\"dataframe\">\n",
       "  <thead>\n",
       "    <tr style=\"text-align: right;\">\n",
       "      <th></th>\n",
       "      <th>country</th>\n",
       "      <th>adjusted_satisfaction</th>\n",
       "      <th>avg_satisfaction</th>\n",
       "      <th>std_satisfaction</th>\n",
       "      <th>avg_income</th>\n",
       "      <th>median_income</th>\n",
       "      <th>income_inequality</th>\n",
       "      <th>region</th>\n",
       "      <th>happyScore</th>\n",
       "      <th>GDP</th>\n",
       "      <th>country.1</th>\n",
       "    </tr>\n",
       "  </thead>\n",
       "  <tbody>\n",
       "    <tr>\n",
       "      <th>49</th>\n",
       "      <td>Italy</td>\n",
       "      <td>57.0</td>\n",
       "      <td>6.6</td>\n",
       "      <td>1.81</td>\n",
       "      <td>15437.595000</td>\n",
       "      <td>13163.070000</td>\n",
       "      <td>34.126250</td>\n",
       "      <td>'Western Europe'</td>\n",
       "      <td>5.948</td>\n",
       "      <td>1.25114</td>\n",
       "      <td>Italy</td>\n",
       "    </tr>\n",
       "    <tr>\n",
       "      <th>44</th>\n",
       "      <td>Ireland</td>\n",
       "      <td>64.0</td>\n",
       "      <td>7.5</td>\n",
       "      <td>1.85</td>\n",
       "      <td>16657.770000</td>\n",
       "      <td>13823.160000</td>\n",
       "      <td>32.418750</td>\n",
       "      <td>'Western Europe'</td>\n",
       "      <td>6.940</td>\n",
       "      <td>1.33596</td>\n",
       "      <td>Ireland</td>\n",
       "    </tr>\n",
       "    <tr>\n",
       "      <th>90</th>\n",
       "      <td>Sweden</td>\n",
       "      <td>67.0</td>\n",
       "      <td>7.8</td>\n",
       "      <td>1.72</td>\n",
       "      <td>17032.755000</td>\n",
       "      <td>15166.605000</td>\n",
       "      <td>26.950000</td>\n",
       "      <td>'Western Europe'</td>\n",
       "      <td>7.364</td>\n",
       "      <td>1.33171</td>\n",
       "      <td>Sweden</td>\n",
       "    </tr>\n",
       "    <tr>\n",
       "      <th>36</th>\n",
       "      <td>United Kingdom</td>\n",
       "      <td>60.0</td>\n",
       "      <td>7.1</td>\n",
       "      <td>1.98</td>\n",
       "      <td>17099.550000</td>\n",
       "      <td>14172.735000</td>\n",
       "      <td>34.432500</td>\n",
       "      <td>'Western Europe'</td>\n",
       "      <td>6.867</td>\n",
       "      <td>1.26637</td>\n",
       "      <td>United Kingdom</td>\n",
       "    </tr>\n",
       "    <tr>\n",
       "      <th>7</th>\n",
       "      <td>Belgium</td>\n",
       "      <td>63.0</td>\n",
       "      <td>7.2</td>\n",
       "      <td>1.72</td>\n",
       "      <td>17168.505000</td>\n",
       "      <td>15166.455000</td>\n",
       "      <td>28.745000</td>\n",
       "      <td>'Western Europe'</td>\n",
       "      <td>6.937</td>\n",
       "      <td>1.30782</td>\n",
       "      <td>Belgium</td>\n",
       "    </tr>\n",
       "    <tr>\n",
       "      <th>33</th>\n",
       "      <td>Finland</td>\n",
       "      <td>70.0</td>\n",
       "      <td>7.9</td>\n",
       "      <td>1.53</td>\n",
       "      <td>17310.195000</td>\n",
       "      <td>14962.560000</td>\n",
       "      <td>27.723750</td>\n",
       "      <td>'Western Europe'</td>\n",
       "      <td>7.406</td>\n",
       "      <td>1.29025</td>\n",
       "      <td>Finland</td>\n",
       "    </tr>\n",
       "    <tr>\n",
       "      <th>27</th>\n",
       "      <td>Denmark</td>\n",
       "      <td>74.0</td>\n",
       "      <td>8.4</td>\n",
       "      <td>1.53</td>\n",
       "      <td>17496.510000</td>\n",
       "      <td>15630.885000</td>\n",
       "      <td>28.155000</td>\n",
       "      <td>'Western Europe'</td>\n",
       "      <td>7.527</td>\n",
       "      <td>1.32548</td>\n",
       "      <td>Denmark</td>\n",
       "    </tr>\n",
       "    <tr>\n",
       "      <th>34</th>\n",
       "      <td>France</td>\n",
       "      <td>52.0</td>\n",
       "      <td>6.4</td>\n",
       "      <td>2.15</td>\n",
       "      <td>18096.788571</td>\n",
       "      <td>14971.251429</td>\n",
       "      <td>32.255714</td>\n",
       "      <td>'Western Europe'</td>\n",
       "      <td>6.575</td>\n",
       "      <td>1.27778</td>\n",
       "      <td>France</td>\n",
       "    </tr>\n",
       "    <tr>\n",
       "      <th>76</th>\n",
       "      <td>Netherlands</td>\n",
       "      <td>69.0</td>\n",
       "      <td>7.6</td>\n",
       "      <td>1.38</td>\n",
       "      <td>18234.435000</td>\n",
       "      <td>15880.545000</td>\n",
       "      <td>29.271250</td>\n",
       "      <td>'Western Europe'</td>\n",
       "      <td>7.378</td>\n",
       "      <td>1.32944</td>\n",
       "      <td>Netherlands</td>\n",
       "    </tr>\n",
       "    <tr>\n",
       "      <th>48</th>\n",
       "      <td>Iceland</td>\n",
       "      <td>71.0</td>\n",
       "      <td>8.1</td>\n",
       "      <td>1.64</td>\n",
       "      <td>18828.345000</td>\n",
       "      <td>16179.315000</td>\n",
       "      <td>28.780000</td>\n",
       "      <td>'Western Europe'</td>\n",
       "      <td>7.561</td>\n",
       "      <td>1.30232</td>\n",
       "      <td>Iceland</td>\n",
       "    </tr>\n",
       "    <tr>\n",
       "      <th>25</th>\n",
       "      <td>Germany</td>\n",
       "      <td>61.0</td>\n",
       "      <td>7.2</td>\n",
       "      <td>1.99</td>\n",
       "      <td>19285.960000</td>\n",
       "      <td>16291.260000</td>\n",
       "      <td>31.541667</td>\n",
       "      <td>'Western Europe'</td>\n",
       "      <td>6.750</td>\n",
       "      <td>1.32792</td>\n",
       "      <td>Germany</td>\n",
       "    </tr>\n",
       "    <tr>\n",
       "      <th>3</th>\n",
       "      <td>Austria</td>\n",
       "      <td>59.0</td>\n",
       "      <td>7.2</td>\n",
       "      <td>2.11</td>\n",
       "      <td>19457.040000</td>\n",
       "      <td>16879.620000</td>\n",
       "      <td>30.296250</td>\n",
       "      <td>'Western Europe'</td>\n",
       "      <td>7.200</td>\n",
       "      <td>1.33723</td>\n",
       "      <td>Austria</td>\n",
       "    </tr>\n",
       "    <tr>\n",
       "      <th>4</th>\n",
       "      <td>Australia</td>\n",
       "      <td>65.0</td>\n",
       "      <td>7.6</td>\n",
       "      <td>1.80</td>\n",
       "      <td>19917.000000</td>\n",
       "      <td>15846.060000</td>\n",
       "      <td>35.285000</td>\n",
       "      <td>'Australia and New Zealand'</td>\n",
       "      <td>7.284</td>\n",
       "      <td>1.33358</td>\n",
       "      <td>Australia</td>\n",
       "    </tr>\n",
       "    <tr>\n",
       "      <th>16</th>\n",
       "      <td>Canada</td>\n",
       "      <td>69.0</td>\n",
       "      <td>8.0</td>\n",
       "      <td>1.71</td>\n",
       "      <td>20190.780000</td>\n",
       "      <td>16829.100000</td>\n",
       "      <td>33.790000</td>\n",
       "      <td>'North America'</td>\n",
       "      <td>7.427</td>\n",
       "      <td>1.32629</td>\n",
       "      <td>Canada</td>\n",
       "    </tr>\n",
       "    <tr>\n",
       "      <th>77</th>\n",
       "      <td>Norway</td>\n",
       "      <td>70.0</td>\n",
       "      <td>8.0</td>\n",
       "      <td>1.62</td>\n",
       "      <td>21877.710000</td>\n",
       "      <td>19477.620000</td>\n",
       "      <td>27.307500</td>\n",
       "      <td>'Western Europe'</td>\n",
       "      <td>7.522</td>\n",
       "      <td>1.45900</td>\n",
       "      <td>Norway</td>\n",
       "    </tr>\n",
       "    <tr>\n",
       "      <th>105</th>\n",
       "      <td>United States</td>\n",
       "      <td>62.0</td>\n",
       "      <td>7.3</td>\n",
       "      <td>1.92</td>\n",
       "      <td>23127.000000</td>\n",
       "      <td>17925.360000</td>\n",
       "      <td>41.090000</td>\n",
       "      <td>'North America'</td>\n",
       "      <td>7.119</td>\n",
       "      <td>1.39451</td>\n",
       "      <td>United States</td>\n",
       "    </tr>\n",
       "    <tr>\n",
       "      <th>17</th>\n",
       "      <td>Switzerland</td>\n",
       "      <td>70.0</td>\n",
       "      <td>8.0</td>\n",
       "      <td>1.62</td>\n",
       "      <td>23400.040000</td>\n",
       "      <td>19442.920000</td>\n",
       "      <td>32.930000</td>\n",
       "      <td>'Western Europe'</td>\n",
       "      <td>7.587</td>\n",
       "      <td>1.39651</td>\n",
       "      <td>Switzerland</td>\n",
       "    </tr>\n",
       "    <tr>\n",
       "      <th>61</th>\n",
       "      <td>Luxembourg</td>\n",
       "      <td>66.0</td>\n",
       "      <td>7.7</td>\n",
       "      <td>1.76</td>\n",
       "      <td>26182.275000</td>\n",
       "      <td>22240.230000</td>\n",
       "      <td>31.950000</td>\n",
       "      <td>'Western Europe'</td>\n",
       "      <td>6.946</td>\n",
       "      <td>1.56391</td>\n",
       "      <td>Luxembourg</td>\n",
       "    </tr>\n",
       "  </tbody>\n",
       "</table>\n",
       "</div>"
      ],
      "text/plain": [
       "            country  adjusted_satisfaction  avg_satisfaction  \\\n",
       "49            Italy                   57.0               6.6   \n",
       "44          Ireland                   64.0               7.5   \n",
       "90           Sweden                   67.0               7.8   \n",
       "36   United Kingdom                   60.0               7.1   \n",
       "7           Belgium                   63.0               7.2   \n",
       "33          Finland                   70.0               7.9   \n",
       "27          Denmark                   74.0               8.4   \n",
       "34           France                   52.0               6.4   \n",
       "76      Netherlands                   69.0               7.6   \n",
       "48          Iceland                   71.0               8.1   \n",
       "25          Germany                   61.0               7.2   \n",
       "3           Austria                   59.0               7.2   \n",
       "4         Australia                   65.0               7.6   \n",
       "16           Canada                   69.0               8.0   \n",
       "77           Norway                   70.0               8.0   \n",
       "105   United States                   62.0               7.3   \n",
       "17      Switzerland                   70.0               8.0   \n",
       "61       Luxembourg                   66.0               7.7   \n",
       "\n",
       "     std_satisfaction    avg_income  median_income  income_inequality  \\\n",
       "49               1.81  15437.595000   13163.070000          34.126250   \n",
       "44               1.85  16657.770000   13823.160000          32.418750   \n",
       "90               1.72  17032.755000   15166.605000          26.950000   \n",
       "36               1.98  17099.550000   14172.735000          34.432500   \n",
       "7                1.72  17168.505000   15166.455000          28.745000   \n",
       "33               1.53  17310.195000   14962.560000          27.723750   \n",
       "27               1.53  17496.510000   15630.885000          28.155000   \n",
       "34               2.15  18096.788571   14971.251429          32.255714   \n",
       "76               1.38  18234.435000   15880.545000          29.271250   \n",
       "48               1.64  18828.345000   16179.315000          28.780000   \n",
       "25               1.99  19285.960000   16291.260000          31.541667   \n",
       "3                2.11  19457.040000   16879.620000          30.296250   \n",
       "4                1.80  19917.000000   15846.060000          35.285000   \n",
       "16               1.71  20190.780000   16829.100000          33.790000   \n",
       "77               1.62  21877.710000   19477.620000          27.307500   \n",
       "105              1.92  23127.000000   17925.360000          41.090000   \n",
       "17               1.62  23400.040000   19442.920000          32.930000   \n",
       "61               1.76  26182.275000   22240.230000          31.950000   \n",
       "\n",
       "                          region  happyScore      GDP       country.1  \n",
       "49              'Western Europe'       5.948  1.25114           Italy  \n",
       "44              'Western Europe'       6.940  1.33596         Ireland  \n",
       "90              'Western Europe'       7.364  1.33171          Sweden  \n",
       "36              'Western Europe'       6.867  1.26637  United Kingdom  \n",
       "7               'Western Europe'       6.937  1.30782         Belgium  \n",
       "33              'Western Europe'       7.406  1.29025         Finland  \n",
       "27              'Western Europe'       7.527  1.32548         Denmark  \n",
       "34              'Western Europe'       6.575  1.27778          France  \n",
       "76              'Western Europe'       7.378  1.32944     Netherlands  \n",
       "48              'Western Europe'       7.561  1.30232         Iceland  \n",
       "25              'Western Europe'       6.750  1.32792         Germany  \n",
       "3               'Western Europe'       7.200  1.33723         Austria  \n",
       "4    'Australia and New Zealand'       7.284  1.33358       Australia  \n",
       "16               'North America'       7.427  1.32629          Canada  \n",
       "77              'Western Europe'       7.522  1.45900          Norway  \n",
       "105              'North America'       7.119  1.39451   United States  \n",
       "17              'Western Europe'       7.587  1.39651     Switzerland  \n",
       "61              'Western Europe'       6.946  1.56391      Luxembourg  "
      ]
     },
     "execution_count": 18,
     "metadata": {},
     "output_type": "execute_result"
    }
   ],
   "source": [
    "richest = data[data['avg_income']>15000]\n",
    "richest"
   ]
  },
  {
   "cell_type": "markdown",
   "id": "6d7c2a9e",
   "metadata": {},
   "source": [
    "## Identifying specific rows in a dataset"
   ]
  },
  {
   "cell_type": "code",
   "execution_count": 20,
   "id": "26a5accf",
   "metadata": {
    "scrolled": true
   },
   "outputs": [
    {
     "data": {
      "text/html": [
       "<div>\n",
       "<style scoped>\n",
       "    .dataframe tbody tr th:only-of-type {\n",
       "        vertical-align: middle;\n",
       "    }\n",
       "\n",
       "    .dataframe tbody tr th {\n",
       "        vertical-align: top;\n",
       "    }\n",
       "\n",
       "    .dataframe thead th {\n",
       "        text-align: right;\n",
       "    }\n",
       "</style>\n",
       "<table border=\"1\" class=\"dataframe\">\n",
       "  <thead>\n",
       "    <tr style=\"text-align: right;\">\n",
       "      <th></th>\n",
       "      <th>country</th>\n",
       "      <th>adjusted_satisfaction</th>\n",
       "      <th>avg_satisfaction</th>\n",
       "      <th>std_satisfaction</th>\n",
       "      <th>avg_income</th>\n",
       "      <th>median_income</th>\n",
       "      <th>income_inequality</th>\n",
       "      <th>region</th>\n",
       "      <th>happyScore</th>\n",
       "      <th>GDP</th>\n",
       "      <th>country.1</th>\n",
       "    </tr>\n",
       "  </thead>\n",
       "  <tbody>\n",
       "    <tr>\n",
       "      <th>4</th>\n",
       "      <td>Australia</td>\n",
       "      <td>65.0</td>\n",
       "      <td>7.6</td>\n",
       "      <td>1.80</td>\n",
       "      <td>19917.00</td>\n",
       "      <td>15846.06</td>\n",
       "      <td>35.2850</td>\n",
       "      <td>'Australia and New Zealand'</td>\n",
       "      <td>7.284</td>\n",
       "      <td>1.33358</td>\n",
       "      <td>Australia</td>\n",
       "    </tr>\n",
       "    <tr>\n",
       "      <th>16</th>\n",
       "      <td>Canada</td>\n",
       "      <td>69.0</td>\n",
       "      <td>8.0</td>\n",
       "      <td>1.71</td>\n",
       "      <td>20190.78</td>\n",
       "      <td>16829.10</td>\n",
       "      <td>33.7900</td>\n",
       "      <td>'North America'</td>\n",
       "      <td>7.427</td>\n",
       "      <td>1.32629</td>\n",
       "      <td>Canada</td>\n",
       "    </tr>\n",
       "    <tr>\n",
       "      <th>77</th>\n",
       "      <td>Norway</td>\n",
       "      <td>70.0</td>\n",
       "      <td>8.0</td>\n",
       "      <td>1.62</td>\n",
       "      <td>21877.71</td>\n",
       "      <td>19477.62</td>\n",
       "      <td>27.3075</td>\n",
       "      <td>'Western Europe'</td>\n",
       "      <td>7.522</td>\n",
       "      <td>1.45900</td>\n",
       "      <td>Norway</td>\n",
       "    </tr>\n",
       "    <tr>\n",
       "      <th>105</th>\n",
       "      <td>United States</td>\n",
       "      <td>62.0</td>\n",
       "      <td>7.3</td>\n",
       "      <td>1.92</td>\n",
       "      <td>23127.00</td>\n",
       "      <td>17925.36</td>\n",
       "      <td>41.0900</td>\n",
       "      <td>'North America'</td>\n",
       "      <td>7.119</td>\n",
       "      <td>1.39451</td>\n",
       "      <td>United States</td>\n",
       "    </tr>\n",
       "    <tr>\n",
       "      <th>17</th>\n",
       "      <td>Switzerland</td>\n",
       "      <td>70.0</td>\n",
       "      <td>8.0</td>\n",
       "      <td>1.62</td>\n",
       "      <td>23400.04</td>\n",
       "      <td>19442.92</td>\n",
       "      <td>32.9300</td>\n",
       "      <td>'Western Europe'</td>\n",
       "      <td>7.587</td>\n",
       "      <td>1.39651</td>\n",
       "      <td>Switzerland</td>\n",
       "    </tr>\n",
       "  </tbody>\n",
       "</table>\n",
       "</div>"
      ],
      "text/plain": [
       "           country  adjusted_satisfaction  avg_satisfaction  std_satisfaction  \\\n",
       "4        Australia                   65.0               7.6              1.80   \n",
       "16          Canada                   69.0               8.0              1.71   \n",
       "77          Norway                   70.0               8.0              1.62   \n",
       "105  United States                   62.0               7.3              1.92   \n",
       "17     Switzerland                   70.0               8.0              1.62   \n",
       "\n",
       "     avg_income  median_income  income_inequality  \\\n",
       "4      19917.00       15846.06            35.2850   \n",
       "16     20190.78       16829.10            33.7900   \n",
       "77     21877.71       19477.62            27.3075   \n",
       "105    23127.00       17925.36            41.0900   \n",
       "17     23400.04       19442.92            32.9300   \n",
       "\n",
       "                          region  happyScore      GDP      country.1  \n",
       "4    'Australia and New Zealand'       7.284  1.33358      Australia  \n",
       "16               'North America'       7.427  1.32629         Canada  \n",
       "77              'Western Europe'       7.522  1.45900         Norway  \n",
       "105              'North America'       7.119  1.39451  United States  \n",
       "17              'Western Europe'       7.587  1.39651    Switzerland  "
      ]
     },
     "execution_count": 20,
     "metadata": {},
     "output_type": "execute_result"
    }
   ],
   "source": [
    "richest.iloc[-6:-1]"
   ]
  },
  {
   "cell_type": "code",
   "execution_count": 21,
   "id": "e4d9eeb3",
   "metadata": {},
   "outputs": [
    {
     "name": "stdout",
     "output_type": "stream",
     "text": [
      "19266.680753968256 6442.751416214639\n"
     ]
    }
   ],
   "source": [
    "import numpy as np\n",
    "\n",
    "rich_mean = np.mean(richest[\"avg_income\"])\n",
    "all_mean = np.mean(data[\"avg_income\"])\n",
    "\n",
    "print(rich_mean, all_mean)"
   ]
  },
  {
   "cell_type": "markdown",
   "id": "7dae2bf6",
   "metadata": {},
   "source": [
    "## Labelling graphs"
   ]
  },
  {
   "cell_type": "code",
   "execution_count": 23,
   "id": "85132c95",
   "metadata": {},
   "outputs": [
    {
     "data": {
      "text/plain": [
       "Text(15437.595, 5.948, 'Italy')"
      ]
     },
     "execution_count": 23,
     "metadata": {},
     "output_type": "execute_result"
    },
    {
     "data": {
      "image/png": "[encoded data removed]",
      "text/plain": [
       "<Figure size 432x288 with 1 Axes>"
      ]
     },
     "metadata": {
      "needs_background": "light"
     },
     "output_type": "display_data"
    }
   ],
   "source": [
    "plt.scatter(richest[\"avg_income\"], richest[\"happyScore\"])\n",
    "plt.text(richest.iloc[0][\"avg_income\"],\n",
    "         richest.iloc[0][\"happyScore\"],\n",
    "         richest.iloc[0][\"country\"])"
   ]
  },
  {
   "cell_type": "code",
   "execution_count": 24,
   "id": "00495f96",
   "metadata": {},
   "outputs": [
    {
     "data": {
      "image/png": "[encoded data removed]",
      "text/plain": [
       "<Figure size 432x288 with 1 Axes>"
      ]
     },
     "metadata": {
      "needs_background": "light"
     },
     "output_type": "display_data"
    }
   ],
   "source": [
    "plt.scatter(richest[\"avg_income\"], richest[\"happyScore\"])\n",
    "\n",
    "for k,row in richest.iterrows():\n",
    "    plt.text(row[\"avg_income\"],\n",
    "             row[\"happyScore\"],\n",
    "             row[\"country\"])"
   ]
  },
  {
   "cell_type": "markdown",
   "id": "f04e8395",
   "metadata": {},
   "source": [
    "## 3D Graphs"
   ]
  },
  {
   "cell_type": "code",
   "execution_count": 27,
   "id": "79f62319",
   "metadata": {},
   "outputs": [
    {
     "data": {
      "text/plain": [
       "<matplotlib.collections.PathCollection at 0x2461d6ce160>"
      ]
     },
     "execution_count": 27,
     "metadata": {},
     "output_type": "execute_result"
    },
    {
     "data": {
      "image/png": "[encoded data removed]",
      "text/plain": [
       "<Figure size 432x288 with 1 Axes>"
      ]
     },
     "metadata": {
      "needs_background": "light"
     },
     "output_type": "display_data"
    }
   ],
   "source": [
    "happy = data['happyScore']\n",
    "income = data['avg_income']\n",
    "ineq = data[\"income_inequality\"]\n",
    "\n",
    "plt.scatter(income, happy, s=ineq*5, alpha=0.25)"
   ]
  },
  {
   "cell_type": "markdown",
   "id": "acbfdff6",
   "metadata": {},
   "source": [
    "## KMeans"
   ]
  },
  {
   "cell_type": "code",
   "execution_count": 28,
   "id": "360cfe16",
   "metadata": {},
   "outputs": [
    {
     "name": "stdout",
     "output_type": "stream",
     "text": [
      "[[5.72880000e+02 2.90500000e+00]\n",
      " [5.74200000e+02 3.68100000e+00]\n",
      " [6.53040000e+02 4.57100000e+00]\n",
      " [7.14720000e+02 4.97100000e+00]\n",
      " [7.18400000e+02 3.84500000e+00]\n",
      " [8.50080000e+02 4.50700000e+00]\n",
      " [8.70840000e+02 3.58700000e+00]\n",
      " [9.03300000e+02 3.99500000e+00]\n",
      " [9.08640000e+02 4.89800000e+00]\n",
      " [9.10320000e+02 5.26800000e+00]\n",
      " [9.36360000e+02 2.83900000e+00]\n",
      " [9.41400000e+02 3.78100000e+00]\n",
      " [9.46520000e+02 3.46500000e+00]\n",
      " [9.56760000e+02 5.12900000e+00]\n",
      " [9.89040000e+02 3.34000000e+00]\n",
      " [1.05072000e+03 4.51200000e+00]\n",
      " [1.12648000e+03 3.93100000e+00]\n",
      " [1.13508000e+03 3.90400000e+00]\n",
      " [1.17768000e+03 3.66700000e+00]\n",
      " [1.26534000e+03 4.69400000e+00]\n",
      " [1.35784800e+03 4.56500000e+00]\n",
      " [1.42812000e+03 4.51400000e+00]\n",
      " [1.44888000e+03 4.03300000e+00]\n",
      " [1.46385600e+03 5.19400000e+00]\n",
      " [1.49052000e+03 4.25200000e+00]\n",
      " [1.49172000e+03 4.87600000e+00]\n",
      " [1.49268000e+03 4.41900000e+00]\n",
      " [1.49703000e+03 4.78600000e+00]\n",
      " [1.54174737e+03 5.39900000e+00]\n",
      " [1.57704000e+03 4.63300000e+00]\n",
      " [1.76856000e+03 4.61000000e+00]\n",
      " [1.85264000e+03 5.28600000e+00]\n",
      " [1.86872000e+03 3.81900000e+00]\n",
      " [1.87524000e+03 4.36900000e+00]\n",
      " [1.92264000e+03 4.43600000e+00]\n",
      " [1.95726667e+03 4.29700000e+00]\n",
      " [2.09676000e+03 4.35000000e+00]\n",
      " [2.22446400e+03 5.07300000e+00]\n",
      " [2.23140000e+03 5.36000000e+00]\n",
      " [2.41920000e+03 5.82800000e+00]\n",
      " [2.52096000e+03 3.89600000e+00]\n",
      " [2.55828000e+03 4.27100000e+00]\n",
      " [2.62700571e+03 5.58900000e+00]\n",
      " [2.67364286e+03 5.14000000e+00]\n",
      " [2.86488000e+03 5.01300000e+00]\n",
      " [3.07728000e+03 5.88900000e+00]\n",
      " [3.08044000e+03 4.78800000e+00]\n",
      " [3.17415000e+03 5.12400000e+00]\n",
      " [3.18180000e+03 4.87400000e+00]\n",
      " [3.25128000e+03 4.73900000e+00]\n",
      " [3.38160000e+03 5.21200000e+00]\n",
      " [3.41089333e+03 6.13000000e+00]\n",
      " [3.48468000e+03 4.33200000e+00]\n",
      " [3.55509333e+03 5.85500000e+00]\n",
      " [3.83565333e+03 5.97500000e+00]\n",
      " [3.88932000e+03 4.64200000e+00]\n",
      " [3.98571000e+03 5.89000000e+00]\n",
      " [4.12050000e+03 5.47700000e+00]\n",
      " [4.12968000e+03 4.68100000e+00]\n",
      " [4.14800000e+03 7.18700000e+00]\n",
      " [4.31266667e+03 5.82400000e+00]\n",
      " [4.43076000e+03 4.88500000e+00]\n",
      " [4.61806286e+03 6.47700000e+00]\n",
      " [4.62990857e+03 5.12300000e+00]\n",
      " [4.79250000e+03 6.45500000e+00]\n",
      " [4.93852000e+03 5.87800000e+00]\n",
      " [5.21504000e+03 4.68600000e+00]\n",
      " [5.24266667e+03 5.33200000e+00]\n",
      " [5.35482000e+03 4.21800000e+00]\n",
      " [5.45393333e+03 5.81300000e+00]\n",
      " [5.56723500e+03 6.98300000e+00]\n",
      " [6.25036000e+03 6.78600000e+00]\n",
      " [6.58246588e+03 5.79100000e+00]\n",
      " [6.72290182e+03 5.09800000e+00]\n",
      " [6.78916000e+03 5.83300000e+00]\n",
      " [6.90146667e+03 7.22600000e+00]\n",
      " [6.90388364e+03 4.80000000e+00]\n",
      " [7.10112000e+03 6.57400000e+00]\n",
      " [7.28682000e+03 5.77000000e+00]\n",
      " [7.54440000e+03 6.48500000e+00]\n",
      " [7.55799000e+03 6.67000000e+00]\n",
      " [7.64719500e+03 5.71600000e+00]\n",
      " [7.82808000e+03 5.75900000e+00]\n",
      " [7.90672500e+03 5.42900000e+00]\n",
      " [7.98639692e+03 5.99500000e+00]\n",
      " [9.43090500e+03 6.50500000e+00]\n",
      " [9.98287500e+03 5.10200000e+00]\n",
      " [1.04939550e+04 5.68900000e+00]\n",
      " [1.06452400e+04 7.27800000e+00]\n",
      " [1.15075650e+04 4.85700000e+00]\n",
      " [1.21747650e+04 5.84800000e+00]\n",
      " [1.38429900e+04 6.32900000e+00]\n",
      " [1.45428000e+04 5.98700000e+00]\n",
      " [1.54375950e+04 5.94800000e+00]\n",
      " [1.66577700e+04 6.94000000e+00]\n",
      " [1.70327550e+04 7.36400000e+00]\n",
      " [1.70995500e+04 6.86700000e+00]\n",
      " [1.71685050e+04 6.93700000e+00]\n",
      " [1.73101950e+04 7.40600000e+00]\n",
      " [1.74965100e+04 7.52700000e+00]\n",
      " [1.80967886e+04 6.57500000e+00]\n",
      " [1.82344350e+04 7.37800000e+00]\n",
      " [1.88283450e+04 7.56100000e+00]\n",
      " [1.92859600e+04 6.75000000e+00]\n",
      " [1.94570400e+04 7.20000000e+00]\n",
      " [1.99170000e+04 7.28400000e+00]\n",
      " [2.01907800e+04 7.42700000e+00]\n",
      " [2.18777100e+04 7.52200000e+00]\n",
      " [2.31270000e+04 7.11900000e+00]\n",
      " [2.34000400e+04 7.58700000e+00]\n",
      " [2.61822750e+04 6.94600000e+00]]\n"
     ]
    }
   ],
   "source": [
    "from sklearn.cluster import KMeans\n",
    "import numpy as np\n",
    "\n",
    "income_happy = np.column_stack((income,happy))\n",
    "print(income_happy)"
   ]
  },
  {
   "cell_type": "code",
   "execution_count": 29,
   "id": "86b99dde",
   "metadata": {},
   "outputs": [
    {
     "data": {
      "text/plain": [
       "array([[7.57755711e+03, 5.85080769e+00],\n",
       "       [1.87593022e+04, 7.03270000e+00],\n",
       "       [2.19912121e+03, 4.75472308e+00]])"
      ]
     },
     "execution_count": 29,
     "metadata": {},
     "output_type": "execute_result"
    }
   ],
   "source": [
    "km = KMeans(n_clusters=3).fit(income_happy)\n",
    "km.cluster_centers_"
   ]
  },
  {
   "cell_type": "code",
   "execution_count": 33,
   "id": "0efa122b",
   "metadata": {},
   "outputs": [
    {
     "data": {
      "image/png": "[encoded data removed]",
      "text/plain": [
       "<Figure size 432x288 with 1 Axes>"
      ]
     },
     "metadata": {
      "needs_background": "light"
     },
     "output_type": "display_data"
    }
   ],
   "source": [
    "clusters = km.cluster_centers_\n",
    "\n",
    "plt.scatter(income,happy)\n",
    "plt.scatter(clusters[:,0], clusters[:,1], s=1000, alpha=0.25)\n",
    "plt.show()"
   ]
  },
  {
   "cell_type": "code",
   "execution_count": null,
   "id": "5984de43",
   "metadata": {},
   "outputs": [],
   "source": []
  },
  {
   "cell_type": "code",
   "execution_count": null,
   "id": "07426d20",
   "metadata": {},
   "outputs": [],
   "source": []
  },
  {
   "cell_type": "code",
   "execution_count": null,
   "id": "6a9def04",
   "metadata": {},
   "outputs": [],
   "source": []
  },
  {
   "cell_type": "code",
   "execution_count": null,
   "id": "fbe705a4",
   "metadata": {},
   "outputs": [],
   "source": []
  }
 ],
 "metadata": {
  "kernelspec": {
   "display_name": "Python 3 (ipykernel)",
   "language": "python",
   "name": "python3"
  },
  "language_info": {
   "codemirror_mode": {
    "name": "ipython",
    "version": 3
   },
   "file_extension": ".py",
   "mimetype": "text/x-python",
   "name": "python",
   "nbconvert_exporter": "python",
   "pygments_lexer": "ipython3",
   "version": "3.9.7"
  }
 },
 "nbformat": 4,
 "nbformat_minor": 5
}
